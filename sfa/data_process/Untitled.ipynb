{
 "cells": [
  {
   "cell_type": "code",
   "execution_count": 1,
   "id": "1f3abeb8",
   "metadata": {},
   "outputs": [
    {
     "name": "stdout",
     "output_type": "stream",
     "text": [
      "\r\n",
      "\r\n",
      "Press n to see the next sample >>> Press Esc to quit...\r\n",
      "Traceback (most recent call last):\r\n",
      "  File \"kitti_dataset.py\", line 301, in <module>\r\n",
      "    bev_map, labels, img_rgb, img_path = dataset.draw_img_with_label(idx)\r\n",
      "  File \"kitti_dataset.py\", line 259, in draw_img_with_label\r\n",
      "    img_path, img_rgb = self.get_image(sample_id)\r\n",
      "  File \"kitti_dataset.py\", line 121, in get_image\r\n",
      "    img = cv2.cvtColor(cv2.imread(img_path), cv2.COLOR_BGR2RGB)\r\n",
      "cv2.error: OpenCV(4.2.0) /io/opencv/modules/imgproc/src/color.cpp:182: error: (-215:Assertion failed) !_src.empty() in function 'cvtColor'\r\n",
      "\r\n"
     ]
    }
   ],
   "source": [
    "!python kitti_dataset.py"
   ]
  },
  {
   "cell_type": "code",
   "execution_count": 2,
   "id": "7a3e0ed2",
   "metadata": {},
   "outputs": [
    {
     "name": "stdout",
     "output_type": "stream",
     "text": [
      "python: can't open file 'test.py': [Errno 2] No such file or directory\r\n"
     ]
    }
   ],
   "source": []
  }
 ],
 "metadata": {
  "kernelspec": {
   "display_name": "Python 3 (ipykernel)",
   "language": "python",
   "name": "python3"
  },
  "language_info": {
   "codemirror_mode": {
    "name": "ipython",
    "version": 3
   },
   "file_extension": ".py",
   "mimetype": "text/x-python",
   "name": "python",
   "nbconvert_exporter": "python",
   "pygments_lexer": "ipython3",
   "version": "3.8.10"
  }
 },
 "nbformat": 4,
 "nbformat_minor": 5
}
