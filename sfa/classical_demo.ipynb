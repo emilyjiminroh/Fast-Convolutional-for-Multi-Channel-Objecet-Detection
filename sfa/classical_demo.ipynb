{
 "cells": [
  {
   "cell_type": "code",
   "execution_count": 4,
   "id": "201c46bb",
   "metadata": {},
   "outputs": [
    {
     "name": "stdout",
     "output_type": "stream",
     "text": [
      "The dataset have been downloaded\n",
      "using ResNet architecture with feature pyramid\n",
      "------------------------------------------------------------------------------------------\n",
      "num_layers 18\n",
      "heads {'hm_cen': 3, 'cen_offset': 2, 'direction': 2, 'z_coor': 1, 'dim': 3}\n",
      "head_conv 64\n",
      "imagenet_pretrained False\n",
      "block_class <class 'models.fpn_resnet.BasicBlock'>\n",
      "layers [2, 2, 2, 2]\n",
      "------------------------------------------------------------------------------------------\n",
      "\n",
      "\n",
      "-*=-*=-*=-*=-*=-*=-*=-*=-*=-*=-*=-*=-*=-*=-*=-*=-*=-*=-*=-*=-*=-*=-*=-*=-*=-*=-*=-*=-*=-*=\n",
      "\n",
      "\n",
      "Loaded weights from ../checkpoints/fpn_resnet_18/fpn_resnet_18_epoch_300.pth\n",
      "\n",
      "Create video writer at ../results/final_demo/classic_E300.avi\n"
     ]
    }
   ],
   "source": [
    "import os\n",
    "os.environ[\"CUDA_VISIBLE_DEVICES\"]=\"1\"\n",
    "!python demo_2_sides.py --gpu_idx 0 --peak_thresh 0.2 --saved_fn final_demo"
   ]
  },
  {
   "cell_type": "code",
   "execution_count": null,
   "id": "437e1db8",
   "metadata": {},
   "outputs": [],
   "source": []
  }
 ],
 "metadata": {
  "kernelspec": {
   "display_name": "Python 3 (ipykernel)",
   "language": "python",
   "name": "python3"
  },
  "language_info": {
   "codemirror_mode": {
    "name": "ipython",
    "version": 3
   },
   "file_extension": ".py",
   "mimetype": "text/x-python",
   "name": "python",
   "nbconvert_exporter": "python",
   "pygments_lexer": "ipython3",
   "version": "3.8.10"
  }
 },
 "nbformat": 4,
 "nbformat_minor": 5
}
